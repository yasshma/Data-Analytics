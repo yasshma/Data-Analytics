{
 "cells": [
  {
   "cell_type": "markdown",
   "id": "1d3682d5",
   "metadata": {},
   "source": [
    "\n",
    "\n",
    "На этот раз данные имеют следующую структуру:\n",
    "- записываются для каждого пользователя, совершившего покупки, каждый день\n",
    "- для каждой даты есть своя папка, внутри неё – папки для каждого пользователя\n",
    "- внутри каждой папки есть файл data.csv, где и хранятся данные\n",
    "\n",
    "Схематично выглядит так:\n",
    "\n",
    "└── data\n",
    "\n",
    "   ├── 2020-12-30\n",
    "   \n",
    "      │  ├── FirstName_LastName1\n",
    "      \n",
    "         │  │   └── data.csv\n",
    "         \n",
    "            │  ├── FirstName_LastName2\n",
    "            \n",
    "               │  │   └── data.csv\n",
    "               \n",
    "                  │  └── FirstName_LastName3\n",
    "                  \n",
    "                     │      └── data.csv\n",
    "                     \n",
    "                        └── 2020-12-31\n",
    "                        \n",
    "                              ├── FirstName_LastName1\n",
    "                              \n",
    "                                    │   └── data.csv\n",
    "                                    \n",
    "                                          └── FirstName_LastName5\n",
    "                                          \n",
    "                                                    └── data.csv"
   ]
  },
  {
   "cell_type": "code",
   "execution_count": 72,
   "id": "7187006c",
   "metadata": {},
   "outputs": [],
   "source": [
    "import pandas as pd\n",
    "#для работы с файлами\n",
    "import os\n",
    "import seaborn as sns\n",
    "import matplotlib.pyplot as plt\n",
    "\n",
    "%matplotlib inline"
   ]
  },
  {
   "cell_type": "code",
   "execution_count": 38,
   "id": "d3aca803",
   "metadata": {},
   "outputs": [
    {
     "data": {
      "text/plain": [
       "['data.csv']"
      ]
     },
     "execution_count": 38,
     "metadata": {},
     "output_type": "execute_result"
    }
   ],
   "source": [
    "#os.listdir(~/) - список всех файлов в нужной директории\n",
    "os.listdir('C:/Users/stale/Task4_KC/data/2020-12-03/Alexey_Smirnov/')"
   ]
  },
  {
   "cell_type": "markdown",
   "id": "06ea5f35",
   "metadata": {},
   "source": [
    "Напишем функцию, с помощью которой по необходимым путям мы можем собрать данные в один датафрейм."
   ]
  },
  {
   "cell_type": "code",
   "execution_count": 40,
   "id": "6f7930f2",
   "metadata": {},
   "outputs": [],
   "source": [
    "def building_dataframe(path_data):\n",
    "    dict_df = []\n",
    "    df = pd.DataFrame(columns=['Unnamed: 0', 'product_id', 'quantity', 'date', 'name'])\n",
    "    path_for_dates = os.listdir(path_data)\n",
    "    for i in path_for_dates:\n",
    "        date = i\n",
    "        path_for_names = os.listdir(path_data+date+'/')\n",
    "        for name in path_for_names:\n",
    "            name_and_surname = name\n",
    "            path_for_csv = os.listdir(path_data+date+'/'+name_and_surname+'/')\n",
    "            final_path = path_data+date+'/'+name_and_surname+'/'+path_for_csv[0]\n",
    "            key = date+'_'+name_and_surname\n",
    "            data = pd.read_csv(final_path, sep=\",\")\n",
    "            len_data = data.shape[0]\n",
    "            data['date'] = [date]*len_data\n",
    "            data['name'] = [name_and_surname]*len_data\n",
    "            dict_df.append(data)\n",
    "            df = pd.concat([df, data], ignore_index=True)\n",
    "\n",
    "    return dict_df, df"
   ]
  },
  {
   "cell_type": "code",
   "execution_count": 41,
   "id": "3a3f8120",
   "metadata": {},
   "outputs": [],
   "source": [
    "dict_df, df = building_dataframe(path_data='C:/Users/stale/Task4_KC/data/')"
   ]
  },
  {
   "cell_type": "code",
   "execution_count": 43,
   "id": "89716346",
   "metadata": {},
   "outputs": [],
   "source": [
    "df = df.drop(['Unnamed: 0'],axis=1)"
   ]
  },
  {
   "cell_type": "code",
   "execution_count": 53,
   "id": "50090e36",
   "metadata": {},
   "outputs": [
    {
     "data": {
      "text/html": [
       "<div>\n",
       "<style scoped>\n",
       "    .dataframe tbody tr th:only-of-type {\n",
       "        vertical-align: middle;\n",
       "    }\n",
       "\n",
       "    .dataframe tbody tr th {\n",
       "        vertical-align: top;\n",
       "    }\n",
       "\n",
       "    .dataframe thead th {\n",
       "        text-align: right;\n",
       "    }\n",
       "</style>\n",
       "<table border=\"1\" class=\"dataframe\">\n",
       "  <thead>\n",
       "    <tr style=\"text-align: right;\">\n",
       "      <th></th>\n",
       "      <th>product_id</th>\n",
       "      <th>quantity</th>\n",
       "      <th>date</th>\n",
       "      <th>name</th>\n",
       "    </tr>\n",
       "  </thead>\n",
       "  <tbody>\n",
       "    <tr>\n",
       "      <th>0</th>\n",
       "      <td>47</td>\n",
       "      <td>1</td>\n",
       "      <td>2020-12-03</td>\n",
       "      <td>Alexey_Smirnov</td>\n",
       "    </tr>\n",
       "    <tr>\n",
       "      <th>1</th>\n",
       "      <td>57</td>\n",
       "      <td>1</td>\n",
       "      <td>2020-12-03</td>\n",
       "      <td>Alexey_Smirnov</td>\n",
       "    </tr>\n",
       "    <tr>\n",
       "      <th>2</th>\n",
       "      <td>14</td>\n",
       "      <td>2</td>\n",
       "      <td>2020-12-03</td>\n",
       "      <td>Alexey_Smirnov</td>\n",
       "    </tr>\n",
       "    <tr>\n",
       "      <th>3</th>\n",
       "      <td>52</td>\n",
       "      <td>1</td>\n",
       "      <td>2020-12-03</td>\n",
       "      <td>Alexey_Smirnov</td>\n",
       "    </tr>\n",
       "    <tr>\n",
       "      <th>4</th>\n",
       "      <td>1</td>\n",
       "      <td>4</td>\n",
       "      <td>2020-12-03</td>\n",
       "      <td>Alexey_Smirnov</td>\n",
       "    </tr>\n",
       "    <tr>\n",
       "      <th>...</th>\n",
       "      <td>...</td>\n",
       "      <td>...</td>\n",
       "      <td>...</td>\n",
       "      <td>...</td>\n",
       "    </tr>\n",
       "    <tr>\n",
       "      <th>156</th>\n",
       "      <td>66</td>\n",
       "      <td>4</td>\n",
       "      <td>2020-12-09</td>\n",
       "      <td>Rostislav_Petrov</td>\n",
       "    </tr>\n",
       "    <tr>\n",
       "      <th>157</th>\n",
       "      <td>39</td>\n",
       "      <td>2</td>\n",
       "      <td>2020-12-09</td>\n",
       "      <td>Rostislav_Petrov</td>\n",
       "    </tr>\n",
       "    <tr>\n",
       "      <th>158</th>\n",
       "      <td>82</td>\n",
       "      <td>4</td>\n",
       "      <td>2020-12-09</td>\n",
       "      <td>Vasiliy_Ivanov</td>\n",
       "    </tr>\n",
       "    <tr>\n",
       "      <th>159</th>\n",
       "      <td>74</td>\n",
       "      <td>2</td>\n",
       "      <td>2020-12-09</td>\n",
       "      <td>Vasiliy_Ivanov</td>\n",
       "    </tr>\n",
       "    <tr>\n",
       "      <th>160</th>\n",
       "      <td>54</td>\n",
       "      <td>3</td>\n",
       "      <td>2020-12-09</td>\n",
       "      <td>Vasiliy_Ivanov</td>\n",
       "    </tr>\n",
       "  </tbody>\n",
       "</table>\n",
       "<p>161 rows × 4 columns</p>\n",
       "</div>"
      ],
      "text/plain": [
       "    product_id quantity        date              name\n",
       "0           47        1  2020-12-03    Alexey_Smirnov\n",
       "1           57        1  2020-12-03    Alexey_Smirnov\n",
       "2           14        2  2020-12-03    Alexey_Smirnov\n",
       "3           52        1  2020-12-03    Alexey_Smirnov\n",
       "4            1        4  2020-12-03    Alexey_Smirnov\n",
       "..         ...      ...         ...               ...\n",
       "156         66        4  2020-12-09  Rostislav_Petrov\n",
       "157         39        2  2020-12-09  Rostislav_Petrov\n",
       "158         82        4  2020-12-09    Vasiliy_Ivanov\n",
       "159         74        2  2020-12-09    Vasiliy_Ivanov\n",
       "160         54        3  2020-12-09    Vasiliy_Ivanov\n",
       "\n",
       "[161 rows x 4 columns]"
      ]
     },
     "execution_count": 53,
     "metadata": {},
     "output_type": "execute_result"
    }
   ],
   "source": [
    "df"
   ]
  },
  {
   "cell_type": "markdown",
   "id": "69d7142e",
   "metadata": {},
   "source": [
    "- Теперь необходимо выяснить какой пользователь купил больше всего товаров. Если их несколько, то перечислить имена через запятую с пробелом и в алфавитном порядке."
   ]
  },
  {
   "cell_type": "code",
   "execution_count": 54,
   "id": "edfb1b04",
   "metadata": {},
   "outputs": [
    {
     "data": {
      "text/html": [
       "<div>\n",
       "<style scoped>\n",
       "    .dataframe tbody tr th:only-of-type {\n",
       "        vertical-align: middle;\n",
       "    }\n",
       "\n",
       "    .dataframe tbody tr th {\n",
       "        vertical-align: top;\n",
       "    }\n",
       "\n",
       "    .dataframe thead th {\n",
       "        text-align: right;\n",
       "    }\n",
       "</style>\n",
       "<table border=\"1\" class=\"dataframe\">\n",
       "  <thead>\n",
       "    <tr style=\"text-align: right;\">\n",
       "      <th></th>\n",
       "      <th>name</th>\n",
       "      <th>count_quantity</th>\n",
       "    </tr>\n",
       "  </thead>\n",
       "  <tbody>\n",
       "    <tr>\n",
       "      <th>0</th>\n",
       "      <td>Alexey_Smirnov</td>\n",
       "      <td>52</td>\n",
       "    </tr>\n",
       "    <tr>\n",
       "      <th>1</th>\n",
       "      <td>Petr_Smirnov</td>\n",
       "      <td>52</td>\n",
       "    </tr>\n",
       "    <tr>\n",
       "      <th>2</th>\n",
       "      <td>Anton_Smirnov</td>\n",
       "      <td>45</td>\n",
       "    </tr>\n",
       "    <tr>\n",
       "      <th>3</th>\n",
       "      <td>Petr_Fedorov</td>\n",
       "      <td>34</td>\n",
       "    </tr>\n",
       "    <tr>\n",
       "      <th>4</th>\n",
       "      <td>Kirill_Fedorov</td>\n",
       "      <td>28</td>\n",
       "    </tr>\n",
       "    <tr>\n",
       "      <th>5</th>\n",
       "      <td>Rostislav_Petrov</td>\n",
       "      <td>28</td>\n",
       "    </tr>\n",
       "    <tr>\n",
       "      <th>6</th>\n",
       "      <td>Vasiliy_Ivanov</td>\n",
       "      <td>27</td>\n",
       "    </tr>\n",
       "    <tr>\n",
       "      <th>7</th>\n",
       "      <td>Alexey_Fedorov</td>\n",
       "      <td>24</td>\n",
       "    </tr>\n",
       "    <tr>\n",
       "      <th>8</th>\n",
       "      <td>Anton_Ivanov</td>\n",
       "      <td>23</td>\n",
       "    </tr>\n",
       "    <tr>\n",
       "      <th>9</th>\n",
       "      <td>Petr_Ivanov</td>\n",
       "      <td>21</td>\n",
       "    </tr>\n",
       "    <tr>\n",
       "      <th>10</th>\n",
       "      <td>Anton_Petrov</td>\n",
       "      <td>18</td>\n",
       "    </tr>\n",
       "    <tr>\n",
       "      <th>11</th>\n",
       "      <td>Kirill_Smirnov</td>\n",
       "      <td>17</td>\n",
       "    </tr>\n",
       "    <tr>\n",
       "      <th>12</th>\n",
       "      <td>Alexey_Ivanov</td>\n",
       "      <td>17</td>\n",
       "    </tr>\n",
       "    <tr>\n",
       "      <th>13</th>\n",
       "      <td>Rostislav_Smirnov</td>\n",
       "      <td>17</td>\n",
       "    </tr>\n",
       "    <tr>\n",
       "      <th>14</th>\n",
       "      <td>Rostislav_Fedorov</td>\n",
       "      <td>16</td>\n",
       "    </tr>\n",
       "    <tr>\n",
       "      <th>15</th>\n",
       "      <td>Vasiliy_Fedorov</td>\n",
       "      <td>15</td>\n",
       "    </tr>\n",
       "    <tr>\n",
       "      <th>16</th>\n",
       "      <td>Petr_Petrov</td>\n",
       "      <td>14</td>\n",
       "    </tr>\n",
       "    <tr>\n",
       "      <th>17</th>\n",
       "      <td>Kirill_Petrov</td>\n",
       "      <td>9</td>\n",
       "    </tr>\n",
       "    <tr>\n",
       "      <th>18</th>\n",
       "      <td>Rostislav_Ivanov</td>\n",
       "      <td>9</td>\n",
       "    </tr>\n",
       "    <tr>\n",
       "      <th>19</th>\n",
       "      <td>Alexey_Petrov</td>\n",
       "      <td>7</td>\n",
       "    </tr>\n",
       "    <tr>\n",
       "      <th>20</th>\n",
       "      <td>Vasiliy_Petrov</td>\n",
       "      <td>7</td>\n",
       "    </tr>\n",
       "  </tbody>\n",
       "</table>\n",
       "</div>"
      ],
      "text/plain": [
       "                 name count_quantity\n",
       "0      Alexey_Smirnov             52\n",
       "1        Petr_Smirnov             52\n",
       "2       Anton_Smirnov             45\n",
       "3        Petr_Fedorov             34\n",
       "4      Kirill_Fedorov             28\n",
       "5    Rostislav_Petrov             28\n",
       "6      Vasiliy_Ivanov             27\n",
       "7      Alexey_Fedorov             24\n",
       "8        Anton_Ivanov             23\n",
       "9         Petr_Ivanov             21\n",
       "10       Anton_Petrov             18\n",
       "11     Kirill_Smirnov             17\n",
       "12      Alexey_Ivanov             17\n",
       "13  Rostislav_Smirnov             17\n",
       "14  Rostislav_Fedorov             16\n",
       "15    Vasiliy_Fedorov             15\n",
       "16        Petr_Petrov             14\n",
       "17      Kirill_Petrov              9\n",
       "18   Rostislav_Ivanov              9\n",
       "19      Alexey_Petrov              7\n",
       "20     Vasiliy_Petrov              7"
      ]
     },
     "execution_count": 54,
     "metadata": {},
     "output_type": "execute_result"
    }
   ],
   "source": [
    "count_quantity_df = df \\\n",
    "    .groupby('name', as_index=False) \\\n",
    "    .agg({'quantity':'sum'}) \\\n",
    "    .rename(columns={'quantity':'count_quantity'}) \\\n",
    "    .sort_values('count_quantity', ascending=False) \\\n",
    "    .reset_index(drop=True)\n",
    "count_quantity"
   ]
  },
  {
   "cell_type": "code",
   "execution_count": 56,
   "id": "690c4a81",
   "metadata": {},
   "outputs": [
    {
     "data": {
      "text/plain": [
       "52"
      ]
     },
     "execution_count": 56,
     "metadata": {},
     "output_type": "execute_result"
    }
   ],
   "source": [
    "max_count = count_quantity_df.count_quantity.max()\n",
    "max_count"
   ]
  },
  {
   "cell_type": "code",
   "execution_count": 63,
   "id": "b990d2b3",
   "metadata": {},
   "outputs": [
    {
     "name": "stdout",
     "output_type": "stream",
     "text": [
      "Пользователи которые купили больше всего товаров: Alexey_Smirnov, Petr_Smirnov\n"
     ]
    }
   ],
   "source": [
    "list_names_max_count = list(count_quantity_df.query('count_quantity == 52').name)\n",
    "str_names = ', '.join(list_names_max_count)\n",
    "print('Пользователи которые купили больше всего товаров: '+str_names)"
   ]
  },
  {
   "cell_type": "markdown",
   "id": "68a3768c",
   "metadata": {},
   "source": [
    "- Также необходимо найти  топ-10 товаров по числу проданных единиц за всё время и постройте барплот. Сколько было продано единиц товара с product_id==56?"
   ]
  },
  {
   "cell_type": "code",
   "execution_count": 74,
   "id": "5cbddcf7",
   "metadata": {},
   "outputs": [],
   "source": [
    "top_product = df \\\n",
    "    .groupby('product_id', as_index=False) \\\n",
    "    .agg({'quantity':'sum'}) \\\n",
    "    .rename(columns={'quantity':'count_quantity'}) \\\n",
    "    .sort_values('count_quantity', ascending=False) \\\n",
    "    .reset_index(drop=True) "
   ]
  },
  {
   "cell_type": "code",
   "execution_count": 78,
   "id": "4f650535",
   "metadata": {},
   "outputs": [
    {
     "data": {
      "text/html": [
       "<div>\n",
       "<style scoped>\n",
       "    .dataframe tbody tr th:only-of-type {\n",
       "        vertical-align: middle;\n",
       "    }\n",
       "\n",
       "    .dataframe tbody tr th {\n",
       "        vertical-align: top;\n",
       "    }\n",
       "\n",
       "    .dataframe thead th {\n",
       "        text-align: right;\n",
       "    }\n",
       "</style>\n",
       "<table border=\"1\" class=\"dataframe\">\n",
       "  <thead>\n",
       "    <tr style=\"text-align: right;\">\n",
       "      <th></th>\n",
       "      <th>product_id</th>\n",
       "      <th>count_quantity</th>\n",
       "    </tr>\n",
       "  </thead>\n",
       "  <tbody>\n",
       "    <tr>\n",
       "      <th>0</th>\n",
       "      <td>27</td>\n",
       "      <td>20</td>\n",
       "    </tr>\n",
       "    <tr>\n",
       "      <th>1</th>\n",
       "      <td>56</td>\n",
       "      <td>18</td>\n",
       "    </tr>\n",
       "    <tr>\n",
       "      <th>2</th>\n",
       "      <td>24</td>\n",
       "      <td>15</td>\n",
       "    </tr>\n",
       "    <tr>\n",
       "      <th>3</th>\n",
       "      <td>74</td>\n",
       "      <td>15</td>\n",
       "    </tr>\n",
       "    <tr>\n",
       "      <th>4</th>\n",
       "      <td>41</td>\n",
       "      <td>14</td>\n",
       "    </tr>\n",
       "    <tr>\n",
       "      <th>5</th>\n",
       "      <td>34</td>\n",
       "      <td>13</td>\n",
       "    </tr>\n",
       "    <tr>\n",
       "      <th>6</th>\n",
       "      <td>94</td>\n",
       "      <td>13</td>\n",
       "    </tr>\n",
       "    <tr>\n",
       "      <th>7</th>\n",
       "      <td>66</td>\n",
       "      <td>13</td>\n",
       "    </tr>\n",
       "    <tr>\n",
       "      <th>8</th>\n",
       "      <td>92</td>\n",
       "      <td>12</td>\n",
       "    </tr>\n",
       "    <tr>\n",
       "      <th>9</th>\n",
       "      <td>50</td>\n",
       "      <td>12</td>\n",
       "    </tr>\n",
       "  </tbody>\n",
       "</table>\n",
       "</div>"
      ],
      "text/plain": [
       "  product_id count_quantity\n",
       "0         27             20\n",
       "1         56             18\n",
       "2         24             15\n",
       "3         74             15\n",
       "4         41             14\n",
       "5         34             13\n",
       "6         94             13\n",
       "7         66             13\n",
       "8         92             12\n",
       "9         50             12"
      ]
     },
     "execution_count": 78,
     "metadata": {},
     "output_type": "execute_result"
    }
   ],
   "source": [
    "top_10 = top_product.head(10)\n",
    "top_10"
   ]
  },
  {
   "cell_type": "code",
   "execution_count": 80,
   "id": "b880c79c",
   "metadata": {},
   "outputs": [
    {
     "data": {
      "text/plain": [
       "<AxesSubplot: xlabel='product_id', ylabel='count_quantity'>"
      ]
     },
     "execution_count": 80,
     "metadata": {},
     "output_type": "execute_result"
    },
    {
     "data": {
      "image/png": "[encoded data removed]",
      "text/plain": [
       "<Figure size 1200x800 with 1 Axes>"
      ]
     },
     "metadata": {},
     "output_type": "display_data"
    }
   ],
   "source": [
    "plt.figure(figsize=(12,8))\n",
    "\n",
    "sns.barplot(x='product_id', y = 'count_quantity', data=top_10, order= top_10.sort_values('count_quantity').product_id )"
   ]
  },
  {
   "cell_type": "markdown",
   "id": "269096c0",
   "metadata": {},
   "source": [
    "Таким образом, самый популярный товар (20 проданых единиц за все время) из топ 10 - это товар с product_id == 27. "
   ]
  },
  {
   "cell_type": "code",
   "execution_count": 83,
   "id": "aed76ae7",
   "metadata": {},
   "outputs": [
    {
     "name": "stdout",
     "output_type": "stream",
     "text": [
      "Всего было  продано 18 единиц товара с product_id == 56.\n"
     ]
    }
   ],
   "source": [
    "count_quantity_id_56 = list(top_10.query('product_id == 56').count_quantity)[0]\n",
    "print(f'Всего было  продано {count_quantity_id_56} единиц товара с product_id == 56.')"
   ]
  },
  {
   "cell_type": "markdown",
   "id": "e46c42a1",
   "metadata": {},
   "source": [
    "- Визуализируем продажи по дням."
   ]
  },
  {
   "cell_type": "code",
   "execution_count": 84,
   "id": "0edcbd7d",
   "metadata": {},
   "outputs": [
    {
     "data": {
      "text/plain": [
       "product_id    object\n",
       "quantity      object\n",
       "date          object\n",
       "name          object\n",
       "dtype: object"
      ]
     },
     "execution_count": 84,
     "metadata": {},
     "output_type": "execute_result"
    }
   ],
   "source": [
    "df.dtypes"
   ]
  },
  {
   "cell_type": "code",
   "execution_count": 85,
   "id": "9d57b452",
   "metadata": {},
   "outputs": [],
   "source": [
    "#необходимо преобразовать в тип \n",
    "df['date'] = pd.to_datetime(df.date)"
   ]
  },
  {
   "cell_type": "code",
   "execution_count": 90,
   "id": "93cbee6c",
   "metadata": {},
   "outputs": [],
   "source": [
    "df['day'] = df.date.dt.day"
   ]
  },
  {
   "cell_type": "code",
   "execution_count": 94,
   "id": "27582903",
   "metadata": {},
   "outputs": [
    {
     "data": {
      "text/html": [
       "<div>\n",
       "<style scoped>\n",
       "    .dataframe tbody tr th:only-of-type {\n",
       "        vertical-align: middle;\n",
       "    }\n",
       "\n",
       "    .dataframe tbody tr th {\n",
       "        vertical-align: top;\n",
       "    }\n",
       "\n",
       "    .dataframe thead th {\n",
       "        text-align: right;\n",
       "    }\n",
       "</style>\n",
       "<table border=\"1\" class=\"dataframe\">\n",
       "  <thead>\n",
       "    <tr style=\"text-align: right;\">\n",
       "      <th></th>\n",
       "      <th>day</th>\n",
       "      <th>count_quantity_in_day</th>\n",
       "    </tr>\n",
       "  </thead>\n",
       "  <tbody>\n",
       "    <tr>\n",
       "      <th>0</th>\n",
       "      <td>3</td>\n",
       "      <td>60</td>\n",
       "    </tr>\n",
       "    <tr>\n",
       "      <th>1</th>\n",
       "      <td>4</td>\n",
       "      <td>113</td>\n",
       "    </tr>\n",
       "    <tr>\n",
       "      <th>2</th>\n",
       "      <td>5</td>\n",
       "      <td>61</td>\n",
       "    </tr>\n",
       "    <tr>\n",
       "      <th>3</th>\n",
       "      <td>6</td>\n",
       "      <td>15</td>\n",
       "    </tr>\n",
       "    <tr>\n",
       "      <th>4</th>\n",
       "      <td>7</td>\n",
       "      <td>94</td>\n",
       "    </tr>\n",
       "    <tr>\n",
       "      <th>5</th>\n",
       "      <td>8</td>\n",
       "      <td>68</td>\n",
       "    </tr>\n",
       "    <tr>\n",
       "      <th>6</th>\n",
       "      <td>9</td>\n",
       "      <td>69</td>\n",
       "    </tr>\n",
       "  </tbody>\n",
       "</table>\n",
       "</div>"
      ],
      "text/plain": [
       "   day count_quantity_in_day\n",
       "0    3                    60\n",
       "1    4                   113\n",
       "2    5                    61\n",
       "3    6                    15\n",
       "4    7                    94\n",
       "5    8                    68\n",
       "6    9                    69"
      ]
     },
     "execution_count": 94,
     "metadata": {},
     "output_type": "execute_result"
    }
   ],
   "source": [
    "quantity_in_day = df.groupby('day', as_index=False) \\\n",
    "    .agg({'quantity':'sum'}) \\\n",
    "    .rename(columns={'quantity':'count_quantity_in_day'}) \\\n",
    "    .sort_values('day')\n",
    "quantity_in_day"
   ]
  },
  {
   "cell_type": "code",
   "execution_count": 95,
   "id": "64b8ec21",
   "metadata": {},
   "outputs": [
    {
     "data": {
      "text/plain": [
       "<AxesSubplot: xlabel='day', ylabel='count_quantity_in_day'>"
      ]
     },
     "execution_count": 95,
     "metadata": {},
     "output_type": "execute_result"
    },
    {
     "data": {
      "image/png": "[encoded data removed]",
      "text/plain": [
       "<Figure size 1200x800 with 1 Axes>"
      ]
     },
     "metadata": {},
     "output_type": "display_data"
    }
   ],
   "source": [
    "plt.figure(figsize=(12,8))\n",
    "\n",
    "sns.barplot(x='day', y='count_quantity_in_day', data=quantity_in_day)"
   ]
  },
  {
   "cell_type": "markdown",
   "id": "0f4658ee",
   "metadata": {},
   "source": [
    "- Посчитаем сколько пользователей приобрели какой-либо товар повторно (более 1 раза)? Повтором будем считать покупку товара с одинаковым product_id, совершенную в разные дни."
   ]
  },
  {
   "cell_type": "code",
   "execution_count": 103,
   "id": "14f169b7",
   "metadata": {},
   "outputs": [
    {
     "data": {
      "text/html": [
       "<div>\n",
       "<style scoped>\n",
       "    .dataframe tbody tr th:only-of-type {\n",
       "        vertical-align: middle;\n",
       "    }\n",
       "\n",
       "    .dataframe tbody tr th {\n",
       "        vertical-align: top;\n",
       "    }\n",
       "\n",
       "    .dataframe thead th {\n",
       "        text-align: right;\n",
       "    }\n",
       "</style>\n",
       "<table border=\"1\" class=\"dataframe\">\n",
       "  <thead>\n",
       "    <tr style=\"text-align: right;\">\n",
       "      <th></th>\n",
       "      <th>name</th>\n",
       "      <th>product_id</th>\n",
       "      <th>date</th>\n",
       "    </tr>\n",
       "  </thead>\n",
       "  <tbody>\n",
       "    <tr>\n",
       "      <th>37</th>\n",
       "      <td>Anton_Ivanov</td>\n",
       "      <td>15</td>\n",
       "      <td>2</td>\n",
       "    </tr>\n",
       "    <tr>\n",
       "      <th>92</th>\n",
       "      <td>Petr_Fedorov</td>\n",
       "      <td>94</td>\n",
       "      <td>2</td>\n",
       "    </tr>\n",
       "  </tbody>\n",
       "</table>\n",
       "</div>"
      ],
      "text/plain": [
       "            name product_id  date\n",
       "37  Anton_Ivanov         15     2\n",
       "92  Petr_Fedorov         94     2"
      ]
     },
     "execution_count": 103,
     "metadata": {},
     "output_type": "execute_result"
    }
   ],
   "source": [
    "df.groupby(['name','product_id'], as_index=False) \\\n",
    "    .agg({'date': lambda group: group.nunique()}) \\\n",
    "    .query('date > 1') "
   ]
  },
  {
   "cell_type": "code",
   "execution_count": null,
   "id": "01ac63e7",
   "metadata": {},
   "outputs": [],
   "source": []
  }
 ],
 "metadata": {
  "kernelspec": {
   "display_name": "dl_kernel",
   "language": "python",
   "name": "dl_kernel"
  },
  "language_info": {
   "codemirror_mode": {
    "name": "ipython",
    "version": 3
   },
   "file_extension": ".py",
   "mimetype": "text/x-python",
   "name": "python",
   "nbconvert_exporter": "python",
   "pygments_lexer": "ipython3",
   "version": "3.9.7"
  }
 },
 "nbformat": 4,
 "nbformat_minor": 5
}
